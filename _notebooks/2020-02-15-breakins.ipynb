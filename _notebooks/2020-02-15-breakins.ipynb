{
  "nbformat": 4,
  "nbformat_minor": 0,
  "metadata": {
    "colab": {
      "name": "2020-02-15-breakins.ipynb",
      "provenance": [],
      "collapsed_sections": []
    },
    "kernelspec": {
      "name": "python3",
      "display_name": "Python 3"
    }
  },
  "cells": [
    {
      "cell_type": "markdown",
      "metadata": {
        "id": "N0b-ScGsralL",
        "colab_type": "text"
      },
      "source": [
        "# Evolution of burglary in Leuven. Is the trend downwards ?\n",
        "> Evolution of burglary in Leuven. Is the trend downwards ?\n",
        "- toc: True"
      ]
    },
    {
      "cell_type": "markdown",
      "metadata": {
        "id": "E7YozDvW7gj0",
        "colab_type": "text"
      },
      "source": [
        "The local police shared [a graph](https://www.politie.be/5388/nieuws/inbraken-op-leuvens-grondgebied-zijn-in-2019-opnieuw-gedaald) with the number of break-ins in Leuven per year.  The article shows a graph with a downwards trendline. Can we conclude that the number of breakins is showing a downward trend based on those numnbers? Let's construct a dataframe with the data from the graph."
      ]
    },
    {
      "cell_type": "code",
      "metadata": {
        "id": "eqmvYOKSrSCC",
        "colab_type": "code",
        "colab": {}
      },
      "source": [
        "import numpy as np\n",
        "import pandas as pd\n",
        "import altair as alt\n",
        "\n",
        "df = pd.DataFrame({'year_int':[y for y in range(2006, 2020)], \n",
        "                  'breakins':[1133,834,953,891,1006,1218,992,1079,1266,1112,713,669,730,644]})\n",
        "df['year'] = pd.to_datetime(df['year_int'], format='%Y')"
      ],
      "execution_count": 0,
      "outputs": []
    },
    {
      "cell_type": "code",
      "metadata": {
        "id": "atADMElatqst",
        "colab_type": "code",
        "outputId": "e0057f5b-eb72-41c3-d26e-763a274a5d7c",
        "colab": {
          "base_uri": "https://localhost:8080/",
          "height": 380
        }
      },
      "source": [
        "points = alt.Chart(df).mark_line(point=True).encode(\n",
        "    x='year', y='breakins', tooltip='breakins'\n",
        ")\n",
        "points + points.transform_regression('year', 'breakins').mark_line(\n",
        "    color='green'\n",
        ").properties(\n",
        "    title='Regression trend on the number breakins per year in Leuven'\n",
        ")"
      ],
      "execution_count": 0,
      "outputs": [
        {
          "output_type": "execute_result",
          "data": {
            "text/plain": [
              "alt.LayerChart(...)"
            ],
            "text/html": [
              "\n",
              "<div id=\"altair-viz-a70d0eb468804d1185769aadea9e6b30\"></div>\n",
              "<script type=\"text/javascript\">\n",
              "  (function(spec, embedOpt){\n",
              "    const outputDiv = document.getElementById(\"altair-viz-a70d0eb468804d1185769aadea9e6b30\");\n",
              "    const paths = {\n",
              "      \"vega\": \"https://cdn.jsdelivr.net/npm//vega@5?noext\",\n",
              "      \"vega-lib\": \"https://cdn.jsdelivr.net/npm//vega-lib?noext\",\n",
              "      \"vega-lite\": \"https://cdn.jsdelivr.net/npm//vega-lite@4.0.2?noext\",\n",
              "      \"vega-embed\": \"https://cdn.jsdelivr.net/npm//vega-embed@6?noext\",\n",
              "    };\n",
              "\n",
              "    function loadScript(lib) {\n",
              "      return new Promise(function(resolve, reject) {\n",
              "        var s = document.createElement('script');\n",
              "        s.src = paths[lib];\n",
              "        s.async = true;\n",
              "        s.onload = () => resolve(paths[lib]);\n",
              "        s.onerror = () => reject(`Error loading script: ${paths[lib]}`);\n",
              "        document.getElementsByTagName(\"head\")[0].appendChild(s);\n",
              "      });\n",
              "    }\n",
              "\n",
              "    function showError(err) {\n",
              "      outputDiv.innerHTML = `<div class=\"error\" style=\"color:red;\">${err}</div>`;\n",
              "      throw err;\n",
              "    }\n",
              "\n",
              "    function displayChart(vegaEmbed) {\n",
              "      vegaEmbed(outputDiv, spec, embedOpt)\n",
              "        .catch(err => showError(`Javascript Error: ${err.message}<br>This usually means there's a typo in your chart specification. See the javascript console for the full traceback.`));\n",
              "    }\n",
              "\n",
              "    if(typeof define === \"function\" && define.amd) {\n",
              "      requirejs.config({paths});\n",
              "      require([\"vega-embed\"], displayChart, err => showError(`Error loading script: ${err.message}`));\n",
              "    } else if (typeof vegaEmbed === \"function\") {\n",
              "      displayChart(vegaEmbed);\n",
              "    } else {\n",
              "      loadScript(\"vega\")\n",
              "        .then(() => loadScript(\"vega-lite\"))\n",
              "        .then(() => loadScript(\"vega-embed\"))\n",
              "        .catch(showError)\n",
              "        .then(() => displayChart(vegaEmbed));\n",
              "    }\n",
              "  })({\"config\": {\"view\": {\"continuousWidth\": 400, \"continuousHeight\": 300}}, \"layer\": [{\"mark\": {\"type\": \"line\", \"point\": true}, \"encoding\": {\"tooltip\": {\"type\": \"quantitative\", \"field\": \"breakins\"}, \"x\": {\"type\": \"temporal\", \"field\": \"year\"}, \"y\": {\"type\": \"quantitative\", \"field\": \"breakins\"}}}, {\"mark\": {\"type\": \"line\", \"color\": \"green\"}, \"encoding\": {\"tooltip\": {\"type\": \"quantitative\", \"field\": \"breakins\"}, \"x\": {\"type\": \"temporal\", \"field\": \"year\"}, \"y\": {\"type\": \"quantitative\", \"field\": \"breakins\"}}, \"title\": \"Regression trend on the number breakins per year in Leuven\", \"transform\": [{\"on\": \"year\", \"regression\": \"breakins\"}]}], \"data\": {\"name\": \"data-e69c4a4577c6a9d2a03c89854c9a4599\"}, \"$schema\": \"https://vega.github.io/schema/vega-lite/v4.0.2.json\", \"datasets\": {\"data-e69c4a4577c6a9d2a03c89854c9a4599\": [{\"year_int\": 2006, \"breakins\": 1133, \"year\": \"2006-01-01T00:00:00\"}, {\"year_int\": 2007, \"breakins\": 834, \"year\": \"2007-01-01T00:00:00\"}, {\"year_int\": 2008, \"breakins\": 953, \"year\": \"2008-01-01T00:00:00\"}, {\"year_int\": 2009, \"breakins\": 891, \"year\": \"2009-01-01T00:00:00\"}, {\"year_int\": 2010, \"breakins\": 1006, \"year\": \"2010-01-01T00:00:00\"}, {\"year_int\": 2011, \"breakins\": 1218, \"year\": \"2011-01-01T00:00:00\"}, {\"year_int\": 2012, \"breakins\": 992, \"year\": \"2012-01-01T00:00:00\"}, {\"year_int\": 2013, \"breakins\": 1079, \"year\": \"2013-01-01T00:00:00\"}, {\"year_int\": 2014, \"breakins\": 1266, \"year\": \"2014-01-01T00:00:00\"}, {\"year_int\": 2015, \"breakins\": 1112, \"year\": \"2015-01-01T00:00:00\"}, {\"year_int\": 2016, \"breakins\": 713, \"year\": \"2016-01-01T00:00:00\"}, {\"year_int\": 2017, \"breakins\": 669, \"year\": \"2017-01-01T00:00:00\"}, {\"year_int\": 2018, \"breakins\": 730, \"year\": \"2018-01-01T00:00:00\"}, {\"year_int\": 2019, \"breakins\": 644, \"year\": \"2019-01-01T00:00:00\"}]}}, {\"mode\": \"vega-lite\"});\n",
              "</script>"
            ]
          },
          "metadata": {
            "tags": []
          },
          "execution_count": 2
        }
      ]
    },
    {
      "cell_type": "markdown",
      "metadata": {
        "id": "hjaIm7HW14i9",
        "colab_type": "text"
      },
      "source": [
        "The article claims that the number of breakins stabilizes the last years. Let's perform a local regression to check that."
      ]
    },
    {
      "cell_type": "code",
      "metadata": {
        "id": "svOYjcpv149m",
        "colab_type": "code",
        "outputId": "e1491ecf-eb05-4f18-f7bc-6dc8aec3bc63",
        "colab": {
          "base_uri": "https://localhost:8080/",
          "height": 380
        }
      },
      "source": [
        "# https://opendatascience.com/local-regression-in-python\n",
        "# Loess: https://gist.github.com/AllenDowney/818f6153ef316aee80467c51faee80f8\n",
        "points + points.transform_loess('year', 'breakins').mark_line(\n",
        "    color='green'\n",
        ").properties(\n",
        "    title='Local regression trend on the number breakins per year in Leuven'\n",
        ")"
      ],
      "execution_count": 0,
      "outputs": [
        {
          "output_type": "execute_result",
          "data": {
            "text/plain": [
              "alt.LayerChart(...)"
            ],
            "text/html": [
              "\n",
              "<div id=\"altair-viz-96173a8b3ba241e3a65c602a610b1c52\"></div>\n",
              "<script type=\"text/javascript\">\n",
              "  (function(spec, embedOpt){\n",
              "    const outputDiv = document.getElementById(\"altair-viz-96173a8b3ba241e3a65c602a610b1c52\");\n",
              "    const paths = {\n",
              "      \"vega\": \"https://cdn.jsdelivr.net/npm//vega@5?noext\",\n",
              "      \"vega-lib\": \"https://cdn.jsdelivr.net/npm//vega-lib?noext\",\n",
              "      \"vega-lite\": \"https://cdn.jsdelivr.net/npm//vega-lite@4.0.2?noext\",\n",
              "      \"vega-embed\": \"https://cdn.jsdelivr.net/npm//vega-embed@6?noext\",\n",
              "    };\n",
              "\n",
              "    function loadScript(lib) {\n",
              "      return new Promise(function(resolve, reject) {\n",
              "        var s = document.createElement('script');\n",
              "        s.src = paths[lib];\n",
              "        s.async = true;\n",
              "        s.onload = () => resolve(paths[lib]);\n",
              "        s.onerror = () => reject(`Error loading script: ${paths[lib]}`);\n",
              "        document.getElementsByTagName(\"head\")[0].appendChild(s);\n",
              "      });\n",
              "    }\n",
              "\n",
              "    function showError(err) {\n",
              "      outputDiv.innerHTML = `<div class=\"error\" style=\"color:red;\">${err}</div>`;\n",
              "      throw err;\n",
              "    }\n",
              "\n",
              "    function displayChart(vegaEmbed) {\n",
              "      vegaEmbed(outputDiv, spec, embedOpt)\n",
              "        .catch(err => showError(`Javascript Error: ${err.message}<br>This usually means there's a typo in your chart specification. See the javascript console for the full traceback.`));\n",
              "    }\n",
              "\n",
              "    if(typeof define === \"function\" && define.amd) {\n",
              "      requirejs.config({paths});\n",
              "      require([\"vega-embed\"], displayChart, err => showError(`Error loading script: ${err.message}`));\n",
              "    } else if (typeof vegaEmbed === \"function\") {\n",
              "      displayChart(vegaEmbed);\n",
              "    } else {\n",
              "      loadScript(\"vega\")\n",
              "        .then(() => loadScript(\"vega-lite\"))\n",
              "        .then(() => loadScript(\"vega-embed\"))\n",
              "        .catch(showError)\n",
              "        .then(() => displayChart(vegaEmbed));\n",
              "    }\n",
              "  })({\"config\": {\"view\": {\"continuousWidth\": 400, \"continuousHeight\": 300}}, \"layer\": [{\"mark\": {\"type\": \"line\", \"point\": true}, \"encoding\": {\"tooltip\": {\"type\": \"quantitative\", \"field\": \"breakins\"}, \"x\": {\"type\": \"temporal\", \"field\": \"year\"}, \"y\": {\"type\": \"quantitative\", \"field\": \"breakins\"}}}, {\"mark\": {\"type\": \"line\", \"color\": \"green\"}, \"encoding\": {\"tooltip\": {\"type\": \"quantitative\", \"field\": \"breakins\"}, \"x\": {\"type\": \"temporal\", \"field\": \"year\"}, \"y\": {\"type\": \"quantitative\", \"field\": \"breakins\"}}, \"title\": \"Local regression trend on the number breakins per year in Leuven\", \"transform\": [{\"loess\": \"breakins\", \"on\": \"year\"}]}], \"data\": {\"name\": \"data-e69c4a4577c6a9d2a03c89854c9a4599\"}, \"$schema\": \"https://vega.github.io/schema/vega-lite/v4.0.2.json\", \"datasets\": {\"data-e69c4a4577c6a9d2a03c89854c9a4599\": [{\"year_int\": 2006, \"breakins\": 1133, \"year\": \"2006-01-01T00:00:00\"}, {\"year_int\": 2007, \"breakins\": 834, \"year\": \"2007-01-01T00:00:00\"}, {\"year_int\": 2008, \"breakins\": 953, \"year\": \"2008-01-01T00:00:00\"}, {\"year_int\": 2009, \"breakins\": 891, \"year\": \"2009-01-01T00:00:00\"}, {\"year_int\": 2010, \"breakins\": 1006, \"year\": \"2010-01-01T00:00:00\"}, {\"year_int\": 2011, \"breakins\": 1218, \"year\": \"2011-01-01T00:00:00\"}, {\"year_int\": 2012, \"breakins\": 992, \"year\": \"2012-01-01T00:00:00\"}, {\"year_int\": 2013, \"breakins\": 1079, \"year\": \"2013-01-01T00:00:00\"}, {\"year_int\": 2014, \"breakins\": 1266, \"year\": \"2014-01-01T00:00:00\"}, {\"year_int\": 2015, \"breakins\": 1112, \"year\": \"2015-01-01T00:00:00\"}, {\"year_int\": 2016, \"breakins\": 713, \"year\": \"2016-01-01T00:00:00\"}, {\"year_int\": 2017, \"breakins\": 669, \"year\": \"2017-01-01T00:00:00\"}, {\"year_int\": 2018, \"breakins\": 730, \"year\": \"2018-01-01T00:00:00\"}, {\"year_int\": 2019, \"breakins\": 644, \"year\": \"2019-01-01T00:00:00\"}]}}, {\"mode\": \"vega-lite\"});\n",
              "</script>"
            ]
          },
          "metadata": {
            "tags": []
          },
          "execution_count": 3
        }
      ]
    },
    {
      "cell_type": "markdown",
      "metadata": {
        "id": "0Zfwy6g42Kbu",
        "colab_type": "text"
      },
      "source": [
        "But what about the trend line? Are we sure the trend is negative ? Bring in the code based on the blogpost [The hacker's guide to uncertainty estimates](https://erikbern.com/2018/10/08/the-hackers-guide-to-uncertainty-estimates.html) to estimate the uncertainty.:"
      ]
    },
    {
      "cell_type": "code",
      "metadata": {
        "id": "EnLiz9Ratrj8",
        "colab_type": "code",
        "colab": {}
      },
      "source": [
        "# Code from: https://erikbern.com/2018/10/08/the-hackers-guide-to-uncertainty-estimates.html\n",
        "import scipy.optimize\n",
        "import random\n",
        "\n",
        "def model(xs, k, m):\n",
        "    return k * xs + m\n",
        "\n",
        "def neg_log_likelihood(tup, xs, ys):\n",
        "    # Since sigma > 0, we use use log(sigma) as the parameter instead.\n",
        "    # That way we have an unconstrained problem.\n",
        "    k, m, log_sigma = tup\n",
        "    sigma = np.exp(log_sigma)\n",
        "    delta = model(xs, k, m) - ys\n",
        "    return len(xs)/2*np.log(2*np.pi*sigma**2) + \\\n",
        "        np.dot(delta, delta) / (2*sigma**2)\n",
        "\n",
        "def confidence_bands(xs, ys, nr_bootstrap):\n",
        "    curves = []\n",
        "    xys = list(zip(xs, ys))\n",
        "    for i in range(nr_bootstrap):\n",
        "        # sample with replacement\n",
        "        bootstrap = [random.choice(xys) for _ in xys]\n",
        "        xs_bootstrap = np.array([x for x, y in bootstrap])\n",
        "        ys_bootstrap = np.array([y for x, y in bootstrap])\n",
        "        k_hat, m_hat, log_sigma_hat = scipy.optimize.minimize(\n",
        "          neg_log_likelihood, (0, 0, 0), args=(xs_bootstrap, ys_bootstrap)\n",
        "        ).x\n",
        "        curves.append(\n",
        "          model(xs, k_hat, m_hat) +\n",
        "          # Note what's going on here: we're _adding_ the random term\n",
        "          # to the predictions!\n",
        "          np.exp(log_sigma_hat) * np.random.normal(size=xs.shape)\n",
        "        )\n",
        "    lo, hi = np.percentile(curves, (2.5, 97.5), axis=0)\n",
        "    return lo, hi"
      ],
      "execution_count": 0,
      "outputs": []
    },
    {
      "cell_type": "code",
      "metadata": {
        "id": "Ucf0aPAJ5hna",
        "colab_type": "code",
        "outputId": "a81afbca-aeb5-4b4d-fd23-24675208d945",
        "colab": {
          "base_uri": "https://localhost:8080/",
          "height": 370
        }
      },
      "source": [
        "# Make a plot with a confidence band\n",
        "df['lo'], df['hi'] = confidence_bands(df.index, df['breakins'], 100)\n",
        "\n",
        "ci = alt.Chart(df).mark_area().encode(\n",
        "    x=alt.X('year:T', title=''),\n",
        "    y=alt.Y('lo:Q'),\n",
        "    y2=alt.Y2('hi:Q', title=''),\n",
        "    color=alt.value('lightblue'),\n",
        "    opacity=alt.value(0.6)\n",
        ")\n",
        "\n",
        "chart = alt.Chart(df).mark_line(point=True).encode(\n",
        "    x='year', y='breakins', tooltip='breakins'\n",
        ")\n",
        "ci + chart  + chart.transform_regression('year', 'breakins').mark_line(\n",
        "    color='red'\n",
        ").properties(\n",
        "    title='95% Confidence band of the number of breakins per year in Leuven'\n",
        ")"
      ],
      "execution_count": 0,
      "outputs": [
        {
          "output_type": "execute_result",
          "data": {
            "text/plain": [
              "alt.LayerChart(...)"
            ],
            "text/html": [
              "\n",
              "<div id=\"altair-viz-129c0712836b49a49814f1e5732598e9\"></div>\n",
              "<script type=\"text/javascript\">\n",
              "  (function(spec, embedOpt){\n",
              "    const outputDiv = document.getElementById(\"altair-viz-129c0712836b49a49814f1e5732598e9\");\n",
              "    const paths = {\n",
              "      \"vega\": \"https://cdn.jsdelivr.net/npm//vega@5?noext\",\n",
              "      \"vega-lib\": \"https://cdn.jsdelivr.net/npm//vega-lib?noext\",\n",
              "      \"vega-lite\": \"https://cdn.jsdelivr.net/npm//vega-lite@4.0.2?noext\",\n",
              "      \"vega-embed\": \"https://cdn.jsdelivr.net/npm//vega-embed@6?noext\",\n",
              "    };\n",
              "\n",
              "    function loadScript(lib) {\n",
              "      return new Promise(function(resolve, reject) {\n",
              "        var s = document.createElement('script');\n",
              "        s.src = paths[lib];\n",
              "        s.async = true;\n",
              "        s.onload = () => resolve(paths[lib]);\n",
              "        s.onerror = () => reject(`Error loading script: ${paths[lib]}`);\n",
              "        document.getElementsByTagName(\"head\")[0].appendChild(s);\n",
              "      });\n",
              "    }\n",
              "\n",
              "    function showError(err) {\n",
              "      outputDiv.innerHTML = `<div class=\"error\" style=\"color:red;\">${err}</div>`;\n",
              "      throw err;\n",
              "    }\n",
              "\n",
              "    function displayChart(vegaEmbed) {\n",
              "      vegaEmbed(outputDiv, spec, embedOpt)\n",
              "        .catch(err => showError(`Javascript Error: ${err.message}<br>This usually means there's a typo in your chart specification. See the javascript console for the full traceback.`));\n",
              "    }\n",
              "\n",
              "    if(typeof define === \"function\" && define.amd) {\n",
              "      requirejs.config({paths});\n",
              "      require([\"vega-embed\"], displayChart, err => showError(`Error loading script: ${err.message}`));\n",
              "    } else if (typeof vegaEmbed === \"function\") {\n",
              "      displayChart(vegaEmbed);\n",
              "    } else {\n",
              "      loadScript(\"vega\")\n",
              "        .then(() => loadScript(\"vega-lite\"))\n",
              "        .then(() => loadScript(\"vega-embed\"))\n",
              "        .catch(showError)\n",
              "        .then(() => displayChart(vegaEmbed));\n",
              "    }\n",
              "  })({\"config\": {\"view\": {\"continuousWidth\": 400, \"continuousHeight\": 300}}, \"layer\": [{\"mark\": \"area\", \"encoding\": {\"color\": {\"value\": \"lightblue\"}, \"opacity\": {\"value\": 0.6}, \"x\": {\"type\": \"temporal\", \"field\": \"year\", \"title\": \"\"}, \"y\": {\"type\": \"quantitative\", \"field\": \"lo\"}, \"y2\": {\"field\": \"hi\", \"title\": \"\"}}}, {\"mark\": {\"type\": \"line\", \"point\": true}, \"encoding\": {\"tooltip\": {\"type\": \"quantitative\", \"field\": \"breakins\"}, \"x\": {\"type\": \"temporal\", \"field\": \"year\"}, \"y\": {\"type\": \"quantitative\", \"field\": \"breakins\"}}}, {\"mark\": {\"type\": \"line\", \"color\": \"red\"}, \"encoding\": {\"tooltip\": {\"type\": \"quantitative\", \"field\": \"breakins\"}, \"x\": {\"type\": \"temporal\", \"field\": \"year\"}, \"y\": {\"type\": \"quantitative\", \"field\": \"breakins\"}}, \"title\": \"95% Confidence band of the number of breakins per year in Leuven\", \"transform\": [{\"on\": \"year\", \"regression\": \"breakins\"}]}], \"data\": {\"name\": \"data-384f6bc799ddef2ecd9ff23431f0ffd3\"}, \"$schema\": \"https://vega.github.io/schema/vega-lite/v4.0.2.json\", \"datasets\": {\"data-384f6bc799ddef2ecd9ff23431f0ffd3\": [{\"year_int\": 2006, \"breakins\": 1133, \"year\": \"2006-01-01T00:00:00\", \"lo\": 752.6041484927282, \"hi\": 1439.5746596863726}, {\"year_int\": 2007, \"breakins\": 834, \"year\": \"2007-01-01T00:00:00\", \"lo\": 796.8470412483414, \"hi\": 1399.0754816900226}, {\"year_int\": 2008, \"breakins\": 953, \"year\": \"2008-01-01T00:00:00\", \"lo\": 704.9106692661817, \"hi\": 1380.7148955875873}, {\"year_int\": 2009, \"breakins\": 891, \"year\": \"2009-01-01T00:00:00\", \"lo\": 762.0763102634833, \"hi\": 1413.8540403040251}, {\"year_int\": 2010, \"breakins\": 1006, \"year\": \"2010-01-01T00:00:00\", \"lo\": 748.5506112829526, \"hi\": 1290.0478832646272}, {\"year_int\": 2011, \"breakins\": 1218, \"year\": \"2011-01-01T00:00:00\", \"lo\": 700.6847917294399, \"hi\": 1275.643225857793}, {\"year_int\": 2012, \"breakins\": 992, \"year\": \"2012-01-01T00:00:00\", \"lo\": 635.280263445932, \"hi\": 1343.038190253073}, {\"year_int\": 2013, \"breakins\": 1079, \"year\": \"2013-01-01T00:00:00\", \"lo\": 541.4281255205674, \"hi\": 1333.96061512578}, {\"year_int\": 2014, \"breakins\": 1266, \"year\": \"2014-01-01T00:00:00\", \"lo\": 620.9274296654781, \"hi\": 1263.4702453193877}, {\"year_int\": 2015, \"breakins\": 1112, \"year\": \"2015-01-01T00:00:00\", \"lo\": 552.6476133224762, \"hi\": 1230.7452836447683}, {\"year_int\": 2016, \"breakins\": 713, \"year\": \"2016-01-01T00:00:00\", \"lo\": 554.5294339950635, \"hi\": 1198.576440050187}, {\"year_int\": 2017, \"breakins\": 669, \"year\": \"2017-01-01T00:00:00\", \"lo\": 523.1755918376946, \"hi\": 1241.3202569890589}, {\"year_int\": 2018, \"breakins\": 730, \"year\": \"2018-01-01T00:00:00\", \"lo\": 507.8038959593444, \"hi\": 1325.47090961788}, {\"year_int\": 2019, \"breakins\": 644, \"year\": \"2019-01-01T00:00:00\", \"lo\": 504.6191564512359, \"hi\": 1172.754057179735}]}}, {\"mode\": \"vega-lite\"});\n",
              "</script>"
            ]
          },
          "metadata": {
            "tags": []
          },
          "execution_count": 5
        }
      ]
    },
    {
      "cell_type": "markdown",
      "metadata": {
        "id": "29Mcoe2E2sFN",
        "colab_type": "text"
      },
      "source": [
        "On the above chart, we see that a possitive trend might be possible as well."
      ]
    },
    {
      "cell_type": "markdown",
      "metadata": {
        "id": "RXhoHMVQDjW1",
        "colab_type": "text"
      },
      "source": [
        "# Linear regression\n",
        "\n",
        "Let's perform a linear regression with statsmodel to calculate the confidence interval on the slope of the regression line."
      ]
    },
    {
      "cell_type": "code",
      "metadata": {
        "id": "X9lCnTdY6sDh",
        "colab_type": "code",
        "colab": {}
      },
      "source": [
        "import statsmodels.formula.api as smf"
      ],
      "execution_count": 0,
      "outputs": []
    },
    {
      "cell_type": "code",
      "metadata": {
        "id": "0morZWKYB0VV",
        "colab_type": "code",
        "colab": {}
      },
      "source": [
        "results = smf.ols('breakins ~ index', data=df.reset_index()).fit()"
      ],
      "execution_count": 0,
      "outputs": []
    },
    {
      "cell_type": "code",
      "metadata": {
        "id": "CgOqd8HcB-Ip",
        "colab_type": "code",
        "outputId": "e310329c-a5ea-4085-f957-c7026c90a015",
        "colab": {
          "base_uri": "https://localhost:8080/",
          "height": 68
        }
      },
      "source": [
        "results.params"
      ],
      "execution_count": 0,
      "outputs": [
        {
          "output_type": "execute_result",
          "data": {
            "text/plain": [
              "Intercept    1096.314286\n",
              "index         -23.169231\n",
              "dtype: float64"
            ]
          },
          "metadata": {
            "tags": []
          },
          "execution_count": 8
        }
      ]
    },
    {
      "cell_type": "markdown",
      "metadata": {
        "id": "C6p07syg1nFJ",
        "colab_type": "text"
      },
      "source": [
        "The most likely slope of the trend line is 23.17 breakins per year. But how sure are we that the trend is heading down ?"
      ]
    },
    {
      "cell_type": "code",
      "metadata": {
        "id": "RGSYBEwJB_BU",
        "colab_type": "code",
        "outputId": "5940d17c-8c81-46ce-c2a7-97868ac86c69",
        "colab": {
          "base_uri": "https://localhost:8080/",
          "height": 478
        }
      },
      "source": [
        "results.summary()"
      ],
      "execution_count": 0,
      "outputs": [
        {
          "output_type": "stream",
          "text": [
            "/usr/local/lib/python3.6/dist-packages/scipy/stats/stats.py:1535: UserWarning: kurtosistest only valid for n>=20 ... continuing anyway, n=14\n",
            "  \"anyway, n=%i\" % int(n))\n"
          ],
          "name": "stderr"
        },
        {
          "output_type": "execute_result",
          "data": {
            "text/html": [
              "<table class=\"simpletable\">\n",
              "<caption>OLS Regression Results</caption>\n",
              "<tr>\n",
              "  <th>Dep. Variable:</th>        <td>breakins</td>     <th>  R-squared:         </th> <td>   0.223</td>\n",
              "</tr>\n",
              "<tr>\n",
              "  <th>Model:</th>                   <td>OLS</td>       <th>  Adj. R-squared:    </th> <td>   0.159</td>\n",
              "</tr>\n",
              "<tr>\n",
              "  <th>Method:</th>             <td>Least Squares</td>  <th>  F-statistic:       </th> <td>   3.451</td>\n",
              "</tr>\n",
              "<tr>\n",
              "  <th>Date:</th>             <td>Sat, 15 Feb 2020</td> <th>  Prob (F-statistic):</th>  <td>0.0879</td> \n",
              "</tr>\n",
              "<tr>\n",
              "  <th>Time:</th>                 <td>17:09:53</td>     <th>  Log-Likelihood:    </th> <td> -92.105</td>\n",
              "</tr>\n",
              "<tr>\n",
              "  <th>No. Observations:</th>      <td>    14</td>      <th>  AIC:               </th> <td>   188.2</td>\n",
              "</tr>\n",
              "<tr>\n",
              "  <th>Df Residuals:</th>          <td>    12</td>      <th>  BIC:               </th> <td>   189.5</td>\n",
              "</tr>\n",
              "<tr>\n",
              "  <th>Df Model:</th>              <td>     1</td>      <th>                     </th>     <td> </td>   \n",
              "</tr>\n",
              "<tr>\n",
              "  <th>Covariance Type:</th>      <td>nonrobust</td>    <th>                     </th>     <td> </td>   \n",
              "</tr>\n",
              "</table>\n",
              "<table class=\"simpletable\">\n",
              "<tr>\n",
              "      <td></td>         <th>coef</th>     <th>std err</th>      <th>t</th>      <th>P>|t|</th>  <th>[0.025</th>    <th>0.975]</th>  \n",
              "</tr>\n",
              "<tr>\n",
              "  <th>Intercept</th> <td> 1096.3143</td> <td>   95.396</td> <td>   11.492</td> <td> 0.000</td> <td>  888.465</td> <td> 1304.164</td>\n",
              "</tr>\n",
              "<tr>\n",
              "  <th>index</th>     <td>  -23.1692</td> <td>   12.472</td> <td>   -1.858</td> <td> 0.088</td> <td>  -50.344</td> <td>    4.006</td>\n",
              "</tr>\n",
              "</table>\n",
              "<table class=\"simpletable\">\n",
              "<tr>\n",
              "  <th>Omnibus:</th>       <td> 1.503</td> <th>  Durbin-Watson:     </th> <td>   1.035</td>\n",
              "</tr>\n",
              "<tr>\n",
              "  <th>Prob(Omnibus):</th> <td> 0.472</td> <th>  Jarque-Bera (JB):  </th> <td>   1.196</td>\n",
              "</tr>\n",
              "<tr>\n",
              "  <th>Skew:</th>          <td> 0.577</td> <th>  Prob(JB):          </th> <td>   0.550</td>\n",
              "</tr>\n",
              "<tr>\n",
              "  <th>Kurtosis:</th>      <td> 2.153</td> <th>  Cond. No.          </th> <td>    14.7</td>\n",
              "</tr>\n",
              "</table><br/><br/>Warnings:<br/>[1] Standard Errors assume that the covariance matrix of the errors is correctly specified."
            ],
            "text/plain": [
              "<class 'statsmodels.iolib.summary.Summary'>\n",
              "\"\"\"\n",
              "                            OLS Regression Results                            \n",
              "==============================================================================\n",
              "Dep. Variable:               breakins   R-squared:                       0.223\n",
              "Model:                            OLS   Adj. R-squared:                  0.159\n",
              "Method:                 Least Squares   F-statistic:                     3.451\n",
              "Date:                Sat, 15 Feb 2020   Prob (F-statistic):             0.0879\n",
              "Time:                        17:09:53   Log-Likelihood:                -92.105\n",
              "No. Observations:                  14   AIC:                             188.2\n",
              "Df Residuals:                      12   BIC:                             189.5\n",
              "Df Model:                           1                                         \n",
              "Covariance Type:            nonrobust                                         \n",
              "==============================================================================\n",
              "                 coef    std err          t      P>|t|      [0.025      0.975]\n",
              "------------------------------------------------------------------------------\n",
              "Intercept   1096.3143     95.396     11.492      0.000     888.465    1304.164\n",
              "index        -23.1692     12.472     -1.858      0.088     -50.344       4.006\n",
              "==============================================================================\n",
              "Omnibus:                        1.503   Durbin-Watson:                   1.035\n",
              "Prob(Omnibus):                  0.472   Jarque-Bera (JB):                1.196\n",
              "Skew:                           0.577   Prob(JB):                        0.550\n",
              "Kurtosis:                       2.153   Cond. No.                         14.7\n",
              "==============================================================================\n",
              "\n",
              "Warnings:\n",
              "[1] Standard Errors assume that the covariance matrix of the errors is correctly specified.\n",
              "\"\"\""
            ]
          },
          "metadata": {
            "tags": []
          },
          "execution_count": 9
        }
      ]
    },
    {
      "cell_type": "markdown",
      "metadata": {
        "id": "t7eNg5O-D13k",
        "colab_type": "text"
      },
      "source": [
        "The analysis reveals that the slope of the best fitting regression line is 23 breakins less per year. However, the confidence interval of the trend is between -50.344 and 4.006. Also the p)value of the regression coefficient is 0.088. Meaning we have eight percent chance that the negative trend is by accident. Hence, based on the current data we are not 95% percent sure the trend is downwards. Hence we can not conclude, based on this data, that there is a negative trend. This corresponds with the width of the 95% certainty band drawn that allows for an upward trend line:"
      ]
    },
    {
      "cell_type": "code",
      "metadata": {
        "id": "tVcY9leOvvFO",
        "colab_type": "code",
        "outputId": "3b0ef212-c323-4d45-9a3b-18dcb719624f",
        "colab": {
          "base_uri": "https://localhost:8080/",
          "height": 111
        }
      },
      "source": [
        "# Here are the confidence intervals of the regression\n",
        "results.conf_int()"
      ],
      "execution_count": 0,
      "outputs": [
        {
          "output_type": "execute_result",
          "data": {
            "text/html": [
              "<div>\n",
              "<style scoped>\n",
              "    .dataframe tbody tr th:only-of-type {\n",
              "        vertical-align: middle;\n",
              "    }\n",
              "\n",
              "    .dataframe tbody tr th {\n",
              "        vertical-align: top;\n",
              "    }\n",
              "\n",
              "    .dataframe thead th {\n",
              "        text-align: right;\n",
              "    }\n",
              "</style>\n",
              "<table border=\"1\" class=\"dataframe\">\n",
              "  <thead>\n",
              "    <tr style=\"text-align: right;\">\n",
              "      <th></th>\n",
              "      <th>0</th>\n",
              "      <th>1</th>\n",
              "    </tr>\n",
              "  </thead>\n",
              "  <tbody>\n",
              "    <tr>\n",
              "      <th>Intercept</th>\n",
              "      <td>888.464586</td>\n",
              "      <td>1304.163986</td>\n",
              "    </tr>\n",
              "    <tr>\n",
              "      <th>index</th>\n",
              "      <td>-50.344351</td>\n",
              "      <td>4.005889</td>\n",
              "    </tr>\n",
              "  </tbody>\n",
              "</table>\n",
              "</div>"
            ],
            "text/plain": [
              "                    0            1\n",
              "Intercept  888.464586  1304.163986\n",
              "index      -50.344351     4.005889"
            ]
          },
          "metadata": {
            "tags": []
          },
          "execution_count": 10
        }
      ]
    },
    {
      "cell_type": "code",
      "metadata": {
        "id": "6Do5SXX5yjkI",
        "colab_type": "code",
        "outputId": "70fbed75-b957-4ed1-eff7-eda1c713d96e",
        "colab": {
          "base_uri": "https://localhost:8080/",
          "height": 370
        }
      },
      "source": [
        "y_low  = results.params['Intercept'] # ?ost likely value of the intercept\n",
        "y_high = results.params['Intercept'] + results.conf_int()[1]['index'] * df.shape[0] # Value of upward trend for the last year\n",
        "df_upward_trend = pd.DataFrame({'year':[df['year'].min(), df['year'].max()], \n",
        "                                'breakins':[y_low, y_high]})\n",
        "possible_upwards_trend = alt.Chart(df_upward_trend).mark_line(\n",
        "    color='green',\n",
        "    strokeDash=[10,10]\n",
        ").encode(\n",
        "    x='year:T',\n",
        "    y=alt.Y('breakins:Q',\n",
        "    title='Number of breakins per year')\n",
        ")\n",
        "\n",
        "points = alt.Chart(df).mark_line(point=True).encode(x='year', y='breakins', tooltip='breakins')\n",
        "(ci + points  + points.transform_regression('year', 'breakins').mark_line(color='red') \n",
        "              + possible_upwards_trend).properties(\n",
        "    title='Trend analysis on the number of breakins per year in Leuven, Belgium'\n",
        ")"
      ],
      "execution_count": 0,
      "outputs": [
        {
          "output_type": "execute_result",
          "data": {
            "text/plain": [
              "alt.LayerChart(...)"
            ],
            "text/html": [
              "\n",
              "<div id=\"altair-viz-6736482203464738a76672a254cd115a\"></div>\n",
              "<script type=\"text/javascript\">\n",
              "  (function(spec, embedOpt){\n",
              "    const outputDiv = document.getElementById(\"altair-viz-6736482203464738a76672a254cd115a\");\n",
              "    const paths = {\n",
              "      \"vega\": \"https://cdn.jsdelivr.net/npm//vega@5?noext\",\n",
              "      \"vega-lib\": \"https://cdn.jsdelivr.net/npm//vega-lib?noext\",\n",
              "      \"vega-lite\": \"https://cdn.jsdelivr.net/npm//vega-lite@4.0.2?noext\",\n",
              "      \"vega-embed\": \"https://cdn.jsdelivr.net/npm//vega-embed@6?noext\",\n",
              "    };\n",
              "\n",
              "    function loadScript(lib) {\n",
              "      return new Promise(function(resolve, reject) {\n",
              "        var s = document.createElement('script');\n",
              "        s.src = paths[lib];\n",
              "        s.async = true;\n",
              "        s.onload = () => resolve(paths[lib]);\n",
              "        s.onerror = () => reject(`Error loading script: ${paths[lib]}`);\n",
              "        document.getElementsByTagName(\"head\")[0].appendChild(s);\n",
              "      });\n",
              "    }\n",
              "\n",
              "    function showError(err) {\n",
              "      outputDiv.innerHTML = `<div class=\"error\" style=\"color:red;\">${err}</div>`;\n",
              "      throw err;\n",
              "    }\n",
              "\n",
              "    function displayChart(vegaEmbed) {\n",
              "      vegaEmbed(outputDiv, spec, embedOpt)\n",
              "        .catch(err => showError(`Javascript Error: ${err.message}<br>This usually means there's a typo in your chart specification. See the javascript console for the full traceback.`));\n",
              "    }\n",
              "\n",
              "    if(typeof define === \"function\" && define.amd) {\n",
              "      requirejs.config({paths});\n",
              "      require([\"vega-embed\"], displayChart, err => showError(`Error loading script: ${err.message}`));\n",
              "    } else if (typeof vegaEmbed === \"function\") {\n",
              "      displayChart(vegaEmbed);\n",
              "    } else {\n",
              "      loadScript(\"vega\")\n",
              "        .then(() => loadScript(\"vega-lite\"))\n",
              "        .then(() => loadScript(\"vega-embed\"))\n",
              "        .catch(showError)\n",
              "        .then(() => displayChart(vegaEmbed));\n",
              "    }\n",
              "  })({\"config\": {\"view\": {\"continuousWidth\": 400, \"continuousHeight\": 300}}, \"layer\": [{\"mark\": \"area\", \"encoding\": {\"color\": {\"value\": \"lightblue\"}, \"opacity\": {\"value\": 0.6}, \"x\": {\"type\": \"temporal\", \"field\": \"year\", \"title\": \"\"}, \"y\": {\"type\": \"quantitative\", \"field\": \"lo\"}, \"y2\": {\"field\": \"hi\", \"title\": \"\"}}}, {\"mark\": {\"type\": \"line\", \"point\": true}, \"encoding\": {\"tooltip\": {\"type\": \"quantitative\", \"field\": \"breakins\"}, \"x\": {\"type\": \"temporal\", \"field\": \"year\"}, \"y\": {\"type\": \"quantitative\", \"field\": \"breakins\"}}}, {\"mark\": {\"type\": \"line\", \"color\": \"red\"}, \"encoding\": {\"tooltip\": {\"type\": \"quantitative\", \"field\": \"breakins\"}, \"x\": {\"type\": \"temporal\", \"field\": \"year\"}, \"y\": {\"type\": \"quantitative\", \"field\": \"breakins\"}}, \"transform\": [{\"on\": \"year\", \"regression\": \"breakins\"}]}, {\"data\": {\"name\": \"data-522f335f17ee0747b6f26c514695809d\"}, \"mark\": {\"type\": \"line\", \"color\": \"green\", \"strokeDash\": [10, 10]}, \"encoding\": {\"x\": {\"type\": \"temporal\", \"field\": \"year\"}, \"y\": {\"type\": \"quantitative\", \"field\": \"breakins\", \"title\": \"Number of breakins per year\"}}}], \"data\": {\"name\": \"data-384f6bc799ddef2ecd9ff23431f0ffd3\"}, \"title\": \"Trend analysis on the number of breakins per year in Leuven, Belgium\", \"$schema\": \"https://vega.github.io/schema/vega-lite/v4.0.2.json\", \"datasets\": {\"data-384f6bc799ddef2ecd9ff23431f0ffd3\": [{\"year_int\": 2006, \"breakins\": 1133, \"year\": \"2006-01-01T00:00:00\", \"lo\": 752.6041484927282, \"hi\": 1439.5746596863726}, {\"year_int\": 2007, \"breakins\": 834, \"year\": \"2007-01-01T00:00:00\", \"lo\": 796.8470412483414, \"hi\": 1399.0754816900226}, {\"year_int\": 2008, \"breakins\": 953, \"year\": \"2008-01-01T00:00:00\", \"lo\": 704.9106692661817, \"hi\": 1380.7148955875873}, {\"year_int\": 2009, \"breakins\": 891, \"year\": \"2009-01-01T00:00:00\", \"lo\": 762.0763102634833, \"hi\": 1413.8540403040251}, {\"year_int\": 2010, \"breakins\": 1006, \"year\": \"2010-01-01T00:00:00\", \"lo\": 748.5506112829526, \"hi\": 1290.0478832646272}, {\"year_int\": 2011, \"breakins\": 1218, \"year\": \"2011-01-01T00:00:00\", \"lo\": 700.6847917294399, \"hi\": 1275.643225857793}, {\"year_int\": 2012, \"breakins\": 992, \"year\": \"2012-01-01T00:00:00\", \"lo\": 635.280263445932, \"hi\": 1343.038190253073}, {\"year_int\": 2013, \"breakins\": 1079, \"year\": \"2013-01-01T00:00:00\", \"lo\": 541.4281255205674, \"hi\": 1333.96061512578}, {\"year_int\": 2014, \"breakins\": 1266, \"year\": \"2014-01-01T00:00:00\", \"lo\": 620.9274296654781, \"hi\": 1263.4702453193877}, {\"year_int\": 2015, \"breakins\": 1112, \"year\": \"2015-01-01T00:00:00\", \"lo\": 552.6476133224762, \"hi\": 1230.7452836447683}, {\"year_int\": 2016, \"breakins\": 713, \"year\": \"2016-01-01T00:00:00\", \"lo\": 554.5294339950635, \"hi\": 1198.576440050187}, {\"year_int\": 2017, \"breakins\": 669, \"year\": \"2017-01-01T00:00:00\", \"lo\": 523.1755918376946, \"hi\": 1241.3202569890589}, {\"year_int\": 2018, \"breakins\": 730, \"year\": \"2018-01-01T00:00:00\", \"lo\": 507.8038959593444, \"hi\": 1325.47090961788}, {\"year_int\": 2019, \"breakins\": 644, \"year\": \"2019-01-01T00:00:00\", \"lo\": 504.6191564512359, \"hi\": 1172.754057179735}], \"data-522f335f17ee0747b6f26c514695809d\": [{\"year\": \"2006-01-01T00:00:00\", \"breakins\": 1096.314285714286}, {\"year\": \"2019-01-01T00:00:00\", \"breakins\": 1152.3967336789892}]}}, {\"mode\": \"vega-lite\"});\n",
              "</script>"
            ]
          },
          "metadata": {
            "tags": []
          },
          "execution_count": 11
        }
      ]
    },
    {
      "cell_type": "markdown",
      "metadata": {
        "id": "73Xg1hDvzEKT",
        "colab_type": "text"
      },
      "source": [
        "In the above graph, we see that a slight positive trend (green dashed line) is in the 95% confidence band on the regression coefficient. We are not sure that the trend on the number of breakins is downwards."
      ]
    },
    {
      "cell_type": "code",
      "metadata": {
        "id": "Q5fAHnojyroo",
        "colab_type": "code",
        "colab": {}
      },
      "source": [
        ""
      ],
      "execution_count": 0,
      "outputs": []
    }
  ]
}