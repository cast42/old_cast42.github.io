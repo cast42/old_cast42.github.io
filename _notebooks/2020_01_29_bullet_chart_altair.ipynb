{
  "nbformat": 4,
  "nbformat_minor": 0,
  "metadata": {
    "colab": {
      "name": "2020-01-29-bullet-chart-altair.ipynb",
      "provenance": [],
      "collapsed_sections": []
    },
    "kernelspec": {
      "name": "python3",
      "display_name": "Python 3"
    }
  },
  "cells": [
    {
      "cell_type": "markdown",
      "metadata": {
        "colab_type": "text",
        "id": "JOn4sCEPsQ8t"
      },
      "source": [
        "# Bullet chart\n",
        "> Bullet charts in Altair\n",
        "- toc: True"
      ]
    },
    {
      "cell_type": "markdown",
      "metadata": {
        "id": "NSzM7DrqEQ0d",
        "colab_type": "text"
      },
      "source": [
        "In the article [\"Bullet Charts - What Is It And How To Use It\"](https://jscharting.com/blog/bullet-charts/) I learned about Bullet charts. It's a specific kind of barchart that must convey the state of a measure or KPI. The goal is to see in a glance if the target is met. \n",
        "Here is an example bullet chart from the article:\n",
        "\n",
        "\n"
      ]
    },
    {
      "cell_type": "code",
      "metadata": {
        "id": "k8DXrenr93XW",
        "colab_type": "code",
        "colab": {
          "base_uri": "https://localhost:8080/",
          "height": 317
        },
        "outputId": "579cb58b-cb8b-4444-b332-ea36bdba74af"
      },
      "source": [
        "from IPython.display import Image\n",
        "Image('https://jscharting.com/blog/bullet-charts/images/bullet_components.png')"
      ],
      "execution_count": 2,
      "outputs": [
        {
          "output_type": "execute_result",
          "data": {
            "image/png": "[encoded data removed]",
            "text/plain": [
              "<IPython.core.display.Image object>"
            ]
          },
          "metadata": {
            "tags": []
          },
          "execution_count": 2
        }
      ]
    },
    {
      "cell_type": "code",
      "metadata": {
        "id": "OSeyKac7EVfr",
        "colab_type": "code",
        "colab": {}
      },
      "source": [
        "# This causes problems:\n",
        "# ![Example Bullet Chart](https://jscharting.com/blog/bullet-charts/images/bullet_components.png)"
      ],
      "execution_count": 0,
      "outputs": []
    },
    {
      "cell_type": "markdown",
      "metadata": {
        "id": "yFxQ38G_Eft_",
        "colab_type": "text"
      },
      "source": [
        "Below is some Python code that generates bullets graphs using the [Altair](https://altair-viz.github.io/) library."
      ]
    },
    {
      "cell_type": "code",
      "metadata": {
        "id": "uw8-cM_SEQ0f",
        "colab_type": "code",
        "outputId": "cc1378e2-0544-4f32-a6b2-905d1b6f0bae",
        "colab": {
          "base_uri": "https://localhost:8080/",
          "height": 331
        }
      },
      "source": [
        "import altair as alt\n",
        "import pandas as pd\n",
        "\n",
        "df = pd.DataFrame.from_records([\n",
        "    {\"title\":\"Revenue\",\"subtitle\":\"US$, in thousands\",\"ranges\":[150,225,300],\"measures\":[220,270],\"markers\":[250]},\n",
        "    {\"title\":\"Profit\",\"subtitle\":\"%\",\"ranges\":[20,25,30],\"measures\":[21,23],\"markers\":[26]},\n",
        "    {\"title\":\"Order Size\",\"subtitle\":\"US$, average\",\"ranges\":[350,500,600],\"measures\":[100,320],\"markers\":[550]},\n",
        "    {\"title\":\"New Customers\",\"subtitle\":\"count\",\"ranges\":[1400,2000,2500],\"measures\":[1000,1650],\"markers\":[2100]},\n",
        "    {\"title\":\"Satisfaction\",\"subtitle\":\"out of 5\",\"ranges\":[3.5,4.25,5],\"measures\":[3.2,4.7],\"markers\":[4.4]}\n",
        "])\n",
        "\n",
        "alt.layer(\n",
        "    alt.Chart().mark_bar(color='#eee').encode(alt.X(\"ranges[2]:Q\", scale=alt.Scale(nice=False), title=None)),\n",
        "    alt.Chart().mark_bar(color='#ddd').encode(x=\"ranges[1]:Q\"),\n",
        "    alt.Chart().mark_bar(color='#bbb').encode(x=\"ranges[0]:Q\"),\n",
        "    alt.Chart().mark_bar(color='steelblue', size=10).encode(x='measures[0]:Q'),\n",
        "    alt.Chart().mark_tick(color='black', size=12).encode(x='markers[0]:Q'),\n",
        "    data=df\n",
        ").facet(\n",
        "    row=alt.Row(\"title:O\", title='')\n",
        ").resolve_scale(\n",
        "    x='independent'\n",
        ")"
      ],
      "execution_count": 3,
      "outputs": [
        {
          "output_type": "execute_result",
          "data": {
            "text/plain": [
              "alt.FacetChart(...)"
            ],
            "text/html": [
              "\n",
              "<div id=\"altair-viz-1\"></div>\n",
              "<script type=\"text/javascript\">\n",
              "  (function(spec, embedOpt){\n",
              "    const outputDiv = document.getElementById(\"altair-viz-1\");\n",
              "    const paths = {\n",
              "      \"vega\": \"https://cdn.jsdelivr.net/npm//vega@5?noext\",\n",
              "      \"vega-lib\": \"https://cdn.jsdelivr.net/npm//vega-lib?noext\",\n",
              "      \"vega-lite\": \"https://cdn.jsdelivr.net/npm//vega-lite@4.0.0?noext\",\n",
              "      \"vega-embed\": \"https://cdn.jsdelivr.net/npm//vega-embed@6?noext\",\n",
              "    };\n",
              "\n",
              "    function loadScript(lib) {\n",
              "      return new Promise(function(resolve, reject) {\n",
              "        var s = document.createElement('script');\n",
              "        s.src = paths[lib];\n",
              "        s.async = true;\n",
              "        s.onload = () => resolve(paths[lib]);\n",
              "        s.onerror = () => reject(`Error loading script: ${paths[lib]}`);\n",
              "        document.getElementsByTagName(\"head\")[0].appendChild(s);\n",
              "      });\n",
              "    }\n",
              "\n",
              "    function showError(err) {\n",
              "      outputDiv.innerHTML = `<div class=\"error\" style=\"color:red;\">${err}</div>`;\n",
              "      throw err;\n",
              "    }\n",
              "\n",
              "    function displayChart(vegaEmbed) {\n",
              "      vegaEmbed(outputDiv, spec, embedOpt)\n",
              "        .catch(err => showError(`Javascript Error: ${err.message}<br>This usually means there's a typo in your chart specification. See the javascript console for the full traceback.`));\n",
              "    }\n",
              "\n",
              "    if(typeof define === \"function\" && define.amd) {\n",
              "      requirejs.config({paths});\n",
              "      require([\"vega-embed\"], displayChart, err => showError(`Error loading script: ${err.message}`));\n",
              "    } else if (typeof vegaEmbed === \"function\") {\n",
              "      displayChart(vegaEmbed);\n",
              "    } else {\n",
              "      loadScript(\"vega\")\n",
              "        .then(() => loadScript(\"vega-lite\"))\n",
              "        .then(() => loadScript(\"vega-embed\"))\n",
              "        .catch(showError)\n",
              "        .then(() => displayChart(vegaEmbed));\n",
              "    }\n",
              "  })({\"config\": {\"view\": {\"continuousWidth\": 400, \"continuousHeight\": 300}}, \"data\": {\"name\": \"data-51276fdc382351453eb0c63bc10cd921\"}, \"facet\": {\"row\": {\"type\": \"ordinal\", \"field\": \"title\", \"title\": \"\"}}, \"spec\": {\"layer\": [{\"mark\": {\"type\": \"bar\", \"color\": \"#eee\"}, \"encoding\": {\"x\": {\"type\": \"quantitative\", \"field\": \"ranges[2]\", \"scale\": {\"nice\": false}, \"title\": null}}}, {\"mark\": {\"type\": \"bar\", \"color\": \"#ddd\"}, \"encoding\": {\"x\": {\"type\": \"quantitative\", \"field\": \"ranges[1]\"}}}, {\"mark\": {\"type\": \"bar\", \"color\": \"#bbb\"}, \"encoding\": {\"x\": {\"type\": \"quantitative\", \"field\": \"ranges[0]\"}}}, {\"mark\": {\"type\": \"bar\", \"color\": \"steelblue\", \"size\": 10}, \"encoding\": {\"x\": {\"type\": \"quantitative\", \"field\": \"measures[0]\"}}}, {\"mark\": {\"type\": \"tick\", \"color\": \"black\", \"size\": 12}, \"encoding\": {\"x\": {\"type\": \"quantitative\", \"field\": \"markers[0]\"}}}]}, \"resolve\": {\"scale\": {\"x\": \"independent\"}}, \"$schema\": \"https://vega.github.io/schema/vega-lite/v4.0.0.json\", \"datasets\": {\"data-51276fdc382351453eb0c63bc10cd921\": [{\"title\": \"Revenue\", \"subtitle\": \"US$, in thousands\", \"ranges\": [150, 225, 300], \"measures\": [220, 270], \"markers\": [250]}, {\"title\": \"Profit\", \"subtitle\": \"%\", \"ranges\": [20, 25, 30], \"measures\": [21, 23], \"markers\": [26]}, {\"title\": \"Order Size\", \"subtitle\": \"US$, average\", \"ranges\": [350, 500, 600], \"measures\": [100, 320], \"markers\": [550]}, {\"title\": \"New Customers\", \"subtitle\": \"count\", \"ranges\": [1400, 2000, 2500], \"measures\": [1000, 1650], \"markers\": [2100]}, {\"title\": \"Satisfaction\", \"subtitle\": \"out of 5\", \"ranges\": [3.5, 4.25, 5], \"measures\": [3.2, 4.7], \"markers\": [4.4]}]}}, {\"mode\": \"vega-lite\"});\n",
              "</script>"
            ]
          },
          "metadata": {
            "tags": []
          },
          "execution_count": 3
        }
      ]
    },
    {
      "cell_type": "markdown",
      "metadata": {
        "colab_type": "text",
        "id": "MvsoAeTfrjh8"
      },
      "source": [
        ""
      ]
    }
  ]
}